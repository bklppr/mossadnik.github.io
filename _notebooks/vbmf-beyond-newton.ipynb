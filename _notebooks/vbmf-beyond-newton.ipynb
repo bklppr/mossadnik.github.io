{
 "cells": [
  {
   "cell_type": "markdown",
   "metadata": {},
   "source": [
    "# Generalized Newton updates for Non-Conjugate Variational Bayes\n",
    "\n",
    "In this post I show how to apply generalized Newton updates to achieve fast and easy to implement updates for non-conjugate mean-field variational inference. The rules integrate well with standard coordinate ascent / variational message passing, since they essentially locally approximate non-conjugate messages by conjugate ones. The method is restricted to situations where all expectations can be computed in closed form.\n",
    "\n",
    "The main steps are\n",
    "\n",
    " 1. Recognise that coordinate ascent updates are optimization problems\n",
    " 1. In the locally conjugate case, this optimization can be solved in closed form\n",
    " 1. Derivative matching a la [Beyond Newton's Method](https://tminka.github.io/papers/minka-newton.pdf) can be used to locally approximate the non-conjugate problem by a conjugate one, the solution of which is the udpate\n",
    "\n",
    "## Example Problem\n",
    "\n",
    "I use a Normal-Poisson model as a running example,\n",
    "\n",
    "$$\n",
    "\\begin{align}\n",
    "z &\\sim \\mathcal{N}(\\mu_0, \\sigma_0^2) \\\\\n",
    "x &\\sim \\text{Poisson}\\left(e^z\\right)\n",
    "\\end{align}\n",
    "$$\n",
    "\n",
    "where $x$ is observed and the log-Poisson rate $z$ is to be inferred. We assume there are $n$ observations with sufficient statistics $k = \\sum_{i=1}^n x_i$.\n",
    "\n",
    "The ELBO for this model is\n",
    "\n",
    "$$\n",
    "\\begin{align}\n",
    "L[q] &= \\mathbb{E}_{z\\sim q}\\left[\\sum_{i=1}^n \\log p(x_i \\,|\\, z) + \\log p(z)\\right] - \\mathbb{E}_{z\\sim q}\\left[\\log q(z)\\right] \\\\\n",
    "&= \\mathbb{E}_{z \\sim q}\\left[ k z - n e^z - \\frac{\\left(z - \\mu_0\\right)^2}{2\\sigma_0^2}\\right] + \\mathbb{H}[q] + \\, \\text{const}\n",
    "\\end{align}\n",
    "$$\n",
    "\n",
    "With a Gaussian variational distribution $q = \\mathcal{N}(m, s^2)$ we can compute all expectations,\n",
    "\n",
    "$$\n",
    "L(m, s^2) = k m - n e^{m}e^{\\frac{1}{2}s^2} - \\frac{m^2 + s^2 - 2\\mu_0 m}{2\\sigma_0^2} + \\frac{1}{2} \\log s^2 + \\,\\text{const}\n",
    "$$\n",
    "\n",
    "When there are no observations ($n = k = 0$), the model is conjugate and the maximum be found exactly - unsurprisingly this is just $m = \\mu_0, s^2 = \\sigma_0^2$. The term $e^{m}e^{\\frac{1}{2}s^2}$ spoils this, however. \n",
    "\n",
    "## Generalized Newton's Method\n",
    "\n",
    "The idea behind the Newton method in minimization is to locally approximate a hard objective by a parabola by matching derivatives. The exact mimimum of the parabola is the next step in an iterative solution.\n",
    "\n",
    "[Thomas Minka's generalized Newton's method](https://tminka.github.io/papers/minka-newton.pdf) consists in replacing the quadratic term by some other non-linear function that is tailored to the problem at hand.\n",
    "\n",
    "This idea can be applied to variational inference by collecting all tractable terms and using these for approximating the intractable ones. Concretely, in the above we approximate\n",
    "\n",
    "$$\n",
    "-e^{m}e^{\\frac{1}{2}s^2} \\approx \\text{const}\\, + a_1 m - \\frac{a_2}{2} m^2  - \\frac{b_1}{2}s^2 + \\frac{b_2}{2} \\log s^2\n",
    "$$\n",
    "\n",
    "Matching the first two derivatives w.r.t. $m$ and $s^2$ leads to a triangular linear system with solution\n",
    "\n",
    "$$\n",
    "\\begin{align}\n",
    "a_1 &= (m - 1)\\lambda \\\\\n",
    "a_2 &= \\lambda \\\\\n",
    "b_1 &= \\left(1 + \\frac{s^2}{2}\\right)\\lambda \\\\\n",
    "b_2 &= \\frac{s^4}{2} \\lambda\n",
    "\\end{align}\n",
    "$$\n",
    "\n",
    "where $\\lambda = e^m e^{\\frac{1}{2}s^2}$ is the expected Poisson rate.\n",
    "\n",
    "## Approximate Update Rule\n",
    "\n",
    "Plugging the approximation into the ELBO leads to a tractable optimization problem with solution\n",
    "\n",
    "$$\n",
    "\\begin{align}\n",
    "m_{\\text{new}} &= \\frac{\\frac{\\mu_0}{\\sigma_0^2} + k +  n\\lambda(m - 1)}{\\frac{1}{\\sigma_0^2} + n \\lambda}\\\\\n",
    "s^2_{\\text{new}} &= \\frac{1 + \\frac{1}{2} n\\lambda s^4}{\\frac{1}{\\sigma_0^2} + \\left(1 + \\frac{s^2}{2}\\right) n \\lambda}\\\\\n",
    "\\end{align}\n",
    "$$\n",
    "\n",
    "\n",
    "Some examples of the convergence are shown below for an empirical rate of $0.1$ and various $n$.\n",
    "\n",
    "\n",
    "## Summary\n",
    "\n",
    "The method outlined above seems to be reasonable for some non-conjugate problems. In the future, I may write updates on\n",
    "\n",
    " * other tractable examples, e.g. inverse-Gamma-Gamma\n",
    " * Comparison to other methods like the black-box VI"
   ]
  },
  {
   "cell_type": "code",
   "execution_count": 2,
   "metadata": {
    "collapsed": true
   },
   "outputs": [],
   "source": [
    "%matplotlib inline\n",
    "import numpy as np\n",
    "import matplotlib.pyplot as plt\n",
    "from scipy import stats"
   ]
  },
  {
   "cell_type": "code",
   "execution_count": 30,
   "metadata": {
    "collapsed": false
   },
   "outputs": [],
   "source": [
    "def normal_poisson(k, n, mu0, sigma0, max_iter=10):\n",
    "    sig2 = sigma0**2\n",
    "    # init with prior\n",
    "    m = mu0\n",
    "    s2 = sig2\n",
    "    \n",
    "    res = np.zeros((max_iter + 1, 2))\n",
    "    res[0] = m, s2\n",
    "    for i in range(max_iter):\n",
    "        n_lambda = n * np.exp(m + .5 * s2)\n",
    "        m = ((mu0 / sig2 + k + n_lambda * (m - 1)) / \n",
    "            (1. / sig2 + n_lambda))\n",
    "        s2 = ((1 + .5 * n_lambda * s2**2) / \n",
    "             (1. / sig2 + (1 + .5 * s2) * n_lambda))\n",
    "        res[i + 1] = m, s2\n",
    "    return res"
   ]
  },
  {
   "cell_type": "code",
   "execution_count": 78,
   "metadata": {
    "collapsed": false
   },
   "outputs": [
    {
     "data": {
      "image/png": "[encoded data removed]",
      "text/plain": [
       "<matplotlib.figure.Figure at 0x10bd7e048>"
      ]
     },
     "metadata": {},
     "output_type": "display_data"
    }
   ],
   "source": [
    "rate = .1\n",
    "nvals = 10 * np.array([1, 10, 100])\n",
    "\n",
    "fig, axes = plt.subplots(ncols=len(nvals), figsize=(13, 4), sharey=True, sharex=True)\n",
    "\n",
    "\n",
    "\n",
    "kw = dict(fontsize='large')\n",
    "offset = 0\n",
    "\n",
    "axes[0].set_ylabel('expected Poisson rate', fontsize='large')\n",
    "for ax, n in zip(axes, nvals):\n",
    "    k = rate * n\n",
    "    m, s2 = normal_poisson(k, n, -2., 2., max_iter=7).T\n",
    "    lambda_ = np.exp(m + .5 * s2)\n",
    "    lo, hi = stats.norm(m, np.sqrt(s2)).interval(.9)\n",
    "    \n",
    "    ax.set_title('n = %d' % n)\n",
    "    ax.set_yscale('log')\n",
    "    ax.set_xlabel('iteration', fontsize='large')\n",
    "    ax.set_ylim((1e-3, 1e1))\n",
    "\n",
    "    ax.axhline(rate, color='k', linestyle=':', alpha=.6, label='max likelihood')\n",
    "    ax.axhspan(*stats.gamma(k, scale=1./n).interval(.9), color='k', alpha=.1)\n",
    "\n",
    "    ax.plot(np.arange(lambda_.size) + offset, lambda_, 'b.', label='variational')\n",
    "    for i, lohi in enumerate(zip(lo, hi)):\n",
    "        ax.plot(2 * [i + offset], np.exp(lohi), 'b')\n",
    "\n",
    "    None\n",
    "    offset += .2\n",
    "    \n",
    "    ax.legend()\n",
    "\n",
    "fig.tight_layout()\n",
    "fig.savefig('../assets/img/normal-poisson-convergence.png')"
   ]
  }
 ],
 "metadata": {
  "kernelspec": {
   "display_name": "Python 3",
   "language": "python",
   "name": "python3"
  },
  "language_info": {
   "codemirror_mode": {
    "name": "ipython",
    "version": 3
   },
   "file_extension": ".py",
   "mimetype": "text/x-python",
   "name": "python",
   "nbconvert_exporter": "python",
   "pygments_lexer": "ipython3",
   "version": "3.6.0"
  }
 },
 "nbformat": 4,
 "nbformat_minor": 2
}
