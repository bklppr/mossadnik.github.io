{
 "cells": [
  {
   "cell_type": "markdown",
   "metadata": {},
   "source": [
    "# Keeping Track of Multiple Choices\n",
    "\n",
    "Let's say you are tasked to answer $n$ multiple choice questions with $k$ answers each correctly (one correct answer per question). At each attempt, you have to answer all questions. At the end you are told how many questions have been answered correctly, but not which ones. How can this be answered with as few attempts as possible?\n",
    "\n",
    "I actually faced this problem a few years ago, when I had to take part in some corporate training that suffered from non-sensical content as well as poor translations, making the task more akin to a probabilistic problem than a knowledge test.\n",
    "\n",
    "First, some formalization. There is a set of questions $Q$, each question $q\\in Q$ has multiple answers $a \\in A_q$ of which one is correct. We use a collection of binary variables $\\mathbf{x}$ for the answers, such that $x_{qa} = 1$ means that answer $a$ is given to question $q$. The variables corresponding to the possible answers to question $q$ are denoted by $\\mathbf{x}_q$.\n",
    "\n",
    "Given an index set $s$ and a collection of binary variables $\\mathbf{x}$, we use the sum constraint\n",
    "\n",
    "$$\n",
    "C(\\mathbf{x}, s, n) = \\left\\{\\begin{matrix}1 & \\text{if}\\;\\sum_{i \\in s} x_{i} = n \\\\ 0 & \\text{otherwise}\\end{matrix}\\right.\n",
    "$$\n",
    "\n",
    "Now we can introduce an initial belief state as the (unnormalized) distribution\n",
    "\n",
    "$$\n",
    "p_0(\\mathbf{x}) = \\exp\\left(\\sum_{q\\in Q}\\sum_{a \\in A_q} \\mu_{qa} x_{qa}\\right) \\, \\prod_{q\\in Q} C(\\mathbf{x}_q, A_q, 1)\n",
    "$$\n",
    "\n",
    "Whenever we have answered a set of questions, the response is the number of questions that are correct. Denoting the set of question-answer pairs by $r$ and the response by $n_r$, the outcome is the constraint $C(\\mathbf{x}, r, n_r)$. After receiving a number of outcomes $n_r, r \\in R$, the belief state is updated like\n",
    "\n",
    "\n",
    "$$\n",
    "p(\\mathbf{x}) = p_0(\\mathbf{x}) \\, \\prod_{r \\in R} C(\\mathbf{x}, r, n_r)\n",
    "$$\n",
    "\n",
    "where $[\\cdots]$ evaluates to one if the expression in the brackets is true, otherwise it is zero. \n",
    "\n",
    "This is an exponential family with natural parameter $\\mu$, so that marginals can be obtained as\n",
    "\n",
    "$$\n",
    "\\begin{align}\n",
    "p(\\mathbf{x}) = \\nabla_\\mu \\log Z\n",
    "\\end{align}\n",
    "$$\n",
    "\n",
    "where $Z = \\sum_{\\mathbf{x}} p(\\mathbf{x})$ is the partition function. If the initial belief state is uniform, e.g. $\\mu_{qa} = 0$, then the marginals are simply given by counting the number of solutions that are compatible with the constraints for each answer and normalizing. For non-uniform $\\mu$, we compare the probability masses instead.\n",
    "\n",
    "When answering questions in sequence, we have to condition on the questions that have already been answered in the current attempt. We denote the set of answered questions by $s$, and use $r \\setminus_q s$ to denote all question-answer pairs in $r$ where the question is not in $s$. Then each constraint is updated like\n",
    "\n",
    "$$\n",
    "\\left[\\sum_{q,a \\in r} x_{qa} = n_r\\right] \\Rightarrow \\left[\\sum_{q, a \\in r \\setminus_q s} x_{qa} = n_r - |r\\cap s|\\right]\n",
    "$$\n",
    "\n",
    "When the variables in a constraint are all one or zero with certainty, they should be conditioned on as well."
   ]
  },
  {
   "cell_type": "code",
   "execution_count": 23,
   "metadata": {},
   "outputs": [],
   "source": [
    "%matplotlib inline\n",
    "import attr\n",
    "\n",
    "import numpy as np\n",
    "import matplotlib.pyplot as plt"
   ]
  },
  {
   "cell_type": "code",
   "execution_count": 106,
   "metadata": {},
   "outputs": [],
   "source": [
    "@attr.s(slots=True)\n",
    "class Constraint(object):\n",
    "    indices = attr.ib(converter=lambda idx: tuple(idx))\n",
    "    value = attr.ib()\n",
    "    \n",
    "    def __init__(self, indices, value):\n",
    "        self.indices = s\n",
    "\n",
    "    @property\n",
    "    def determined(self):\n",
    "        if self.value == 0:\n",
    "            return True\n",
    "        n = len(self.indices[0])\n",
    "        if self.value == n:\n",
    "            return True\n",
    "        return False\n",
    "\n",
    "\n",
    "@attr.s(slots=True)\n",
    "class Node(object):\n",
    "    neighbors = attr.ib()\n",
    "    data = attr.ib()\n",
    "\n",
    "\n",
    "class FactorGraph(object):\n",
    "    def __init__(self):\n",
    "        self.variables = dict()\n",
    "        self.factors = dict()\n",
    "        \n",
    "    def add_variable(self, key, data=None):\n",
    "        if key in self.variables:\n",
    "            raise ValueError()\n",
    "        self.variables[key] = Node(set(), data)\n",
    "        \n",
    "    def add_factor(self, data, variables):\n",
    "        key = len(self.factors)\n",
    "        self.factors[key] = Node(set(variables), data)\n",
    "        for k in variables:\n",
    "            v = self.variables[k]\n",
    "            v.neighbors.add(key)\n",
    "        return key\n",
    "        \n",
    "    def __repr__(self):\n",
    "        return 'FactorGraph({} variables, {} factors)'.format(len(self.variables), len(self.factors))"
   ]
  },
  {
   "cell_type": "code",
   "execution_count": 107,
   "metadata": {},
   "outputs": [],
   "source": [
    "graph = FactorGraph()\n",
    "\n",
    "for q in range(nq):\n",
    "    for a in range(na):\n",
    "        graph.add_variable((q, a))\n",
    "        \n",
    "for q in range(nq):\n",
    "    idx = [(0, a) for a in range(na)]\n",
    "    graph.add_factor(Constraint(tuple(zip(*idx)), 1), set(idx))"
   ]
  },
  {
   "cell_type": "code",
   "execution_count": 108,
   "metadata": {},
   "outputs": [],
   "source": [
    "attempt = random_policy(nq, na)\n",
    "n = evaluate(solution, random_policy)\n",
    "answers = [(q, a) for q, a in enumerate(random_policy(nq, na))]\n",
    "graph.add_factor(Constraint(answers, n), set(answers))"
   ]
  },
  {
   "cell_type": "code",
   "execution_count": 111,
   "metadata": {},
   "outputs": [
    {
     "data": {
      "text/plain": [
       "{0: Node(neighbors={(0, 1), (0, 3), (0, 0), (0, 2)}, data=Constraint(indices=((0, 0, 0, 0), (0, 1, 2, 3)), value=1)),\n",
       " 1: Node(neighbors={(0, 1), (0, 3), (0, 0), (0, 2)}, data=Constraint(indices=((0, 0, 0, 0), (0, 1, 2, 3)), value=1)),\n",
       " 2: Node(neighbors={(0, 1), (0, 3), (0, 0), (0, 2)}, data=Constraint(indices=((0, 0, 0, 0), (0, 1, 2, 3)), value=1)),\n",
       " 3: Node(neighbors={(1, 2), (2, 0), (0, 2)}, data=Constraint(indices=((0, 2), (1, 2), (2, 0)), value=0))}"
      ]
     },
     "execution_count": 111,
     "metadata": {},
     "output_type": "execute_result"
    }
   ],
   "source": [
    "graph.factors"
   ]
  },
  {
   "cell_type": "code",
   "execution_count": 12,
   "metadata": {},
   "outputs": [],
   "source": [
    "def test_data(nq, na):\n",
    "    return np.zeros(nq, dtype=int)\n",
    "\n",
    "\n",
    "def random_policy(nq, na):\n",
    "    return np.random.choice(na, size=nq, replace=True)\n",
    "\n",
    "\n",
    "def evaluate(correct, answers):\n",
    "    return np.sum(correct == answers)"
   ]
  },
  {
   "cell_type": "markdown",
   "metadata": {},
   "source": [
    "## Constraint propagation\n",
    "\n",
    "constraint is set of indices and an integer. Constraints and variables form factor graph. Need to\n",
    "\n",
    " * reference indices from constraint\n",
    " * reference constraints from indices\n",
    " \n",
    "How about using dicts to represent the graph? "
   ]
  },
  {
   "cell_type": "code",
   "execution_count": null,
   "metadata": {},
   "outputs": [],
   "source": []
  },
  {
   "cell_type": "code",
   "execution_count": 21,
   "metadata": {},
   "outputs": [
    {
     "data": {
      "text/plain": [
       "1"
      ]
     },
     "execution_count": 21,
     "metadata": {},
     "output_type": "execute_result"
    }
   ],
   "source": [
    "nq, na = 3, 4\n",
    "solution = test_data(nq, na)\n",
    "answers = random_policy(nq, na)\n",
    "score = evaluate(solution, answers)\n",
    "score"
   ]
  }
 ],
 "metadata": {
  "kernelspec": {
   "display_name": "Python 3",
   "language": "python",
   "name": "python3"
  },
  "language_info": {
   "codemirror_mode": {
    "name": "ipython",
    "version": 3
   },
   "file_extension": ".py",
   "mimetype": "text/x-python",
   "name": "python",
   "nbconvert_exporter": "python",
   "pygments_lexer": "ipython3",
   "version": "3.7.0"
  }
 },
 "nbformat": 4,
 "nbformat_minor": 2
}
