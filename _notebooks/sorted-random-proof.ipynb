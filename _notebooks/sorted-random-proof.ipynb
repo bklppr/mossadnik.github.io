{
 "cells": [
  {
   "cell_type": "markdown",
   "metadata": {},
   "source": [
    "# Order Statistics Conjecture\n",
    "\n",
    "[Original problem statement](http://jeffrouder.blogspot.com/2019/)\n",
    "\n",
    "Given a continuous(?) distribution, sample to sets of variables $X, Y$, each of size $n$. Define\n",
    "\n",
    "$$\n",
    "A = \\left\\{i:\\; X_i < Y_i\\right\\}\n",
    "$$\n",
    "\n",
    "The conjecture is that that $|A|$ obeys a uniform distribution of the integers $0, 1,\\ldots,n$.\n",
    "\n",
    "It is clear that we can assume a uniform distribution by converting to quantiles without loss of generality.\n",
    "\n",
    "First, let's simulate to reproduce the result"
   ]
  },
  {
   "cell_type": "code",
   "execution_count": 18,
   "metadata": {},
   "outputs": [],
   "source": [
    "%matplotlib inline\n",
    "from pathlib import Path\n",
    "import numpy as np\n",
    "import matplotlib.pyplot as plt\n",
    "from scipy import stats\n",
    "\n",
    "figdir = Path('../assets/img/2020-01-10-sorted-random-variables/').resolve()"
   ]
  },
  {
   "cell_type": "code",
   "execution_count": 14,
   "metadata": {},
   "outputs": [],
   "source": [
    "plt.rcParams['axes.labelsize'] = 'large'\n",
    "plt.rcParams['xtick.labelsize'] = 'large'\n",
    "plt.rcParams['ytick.labelsize'] = 'large'"
   ]
  },
  {
   "cell_type": "code",
   "execution_count": 2,
   "metadata": {},
   "outputs": [],
   "source": [
    "def generate(n):\n",
    "    return np.sort(np.random.rand(n))\n",
    "\n",
    "def evaluate(x, y):\n",
    "    return np.sum(x < y)"
   ]
  },
  {
   "cell_type": "markdown",
   "metadata": {},
   "source": [
    "Verify empirically"
   ]
  },
  {
   "cell_type": "code",
   "execution_count": 20,
   "metadata": {},
   "outputs": [
    {
     "data": {
      "image/png": "[encoded data removed]",
      "text/plain": [
       "<Figure size 432x288 with 1 Axes>"
      ]
     },
     "metadata": {
      "needs_background": "light"
     },
     "output_type": "display_data"
    }
   ],
   "source": [
    "n = 4\n",
    "\n",
    "res = [evaluate(generate(n), generate(n)) for _ in range(10000)]\n",
    "\n",
    "fig, ax = plt.subplots()\n",
    "ax.hist(res, rwidth=.6, bins=np.linspace(-.5, n + .5, n + 2))\n",
    "\n",
    "ax.set_xlabel('Number of indices $i$ s.t. $X_i < Y_i$')\n",
    "ax.set_ylabel('Counts')\n",
    "ax.set_title('Numeric example: $10^4$ runs with $n = 4$')\n",
    "\n",
    "fig.savefig(figdir / 'sampling.png')\n",
    "pass"
   ]
  },
  {
   "cell_type": "markdown",
   "metadata": {},
   "source": [
    "# Alternative process: Sample all and label\n",
    "\n",
    "We could as well get a sample of size $2n$ first, sort it, and label elements with a color ($n$ each), e.g. red for target and blue for other. To determine the result, we iterate through the sequence and count colors. If we see a red ball, we add one to the result if the number of red balls (including the current one) is greater than the number of black balls.\n",
    "\n",
    "The process can be viewed on a trellis with a single source (no balls drawn) and sink (all balls drawn). The vertical axis is difference of red - black. Each path corresponds to a partition. Since all partitions are equally probable, all paths through the trellis have equal weight. The target quantity is the number of upward links crossed that are above the center.\n",
    "\n",
    "Hence the conjecture says that the number of paths containing $k$ flagged links is independent of $k$.\n",
    "\n",
    "Now denote the number of paths joining two nodes on the diagonal with distance $i$ and number or red edges $a$ by $f(i, a)$. In addition to all such paths we can define a primitive class of paths that does not visit the diagonal between its beginning and end. A primitive path of length $i$ covers either zero or $i$ red edges. Denote the number of primitive paths with  $a$ edges by $g(i, a)$, where $g(i, a) = 0$ for $0 < a < i$. Then we have the recurrence\n",
    "\n",
    "$$\n",
    "\\begin{align}\n",
    "f(0, a) &= \\delta_{a, 0} \\\\\n",
    "f(i, a) &= \\sum_{k = 1}^{i} \\sum_{b = 0}^a f(i - k, a - b) g(k, b) \\\\\n",
    "&= \\sum_{k = 1}^{i} g(k) \\left[f(i - k, a - k) + f(i - k, a)\\right] \\\\\n",
    "&= \\sum_{k = 1}^{a} g(k) f(i - k, a - k) + \\sum_{k = 1}^{i - a} g(k) f(i - k, a)\n",
    "\\end{align}\n",
    "$$\n",
    "\n",
    "The number of primitive paths $g(k)$ can be expressed with the Catalan numbers \n",
    "\n",
    "$$\n",
    "C_n = \\frac{1}{n + 1}\\begin{pmatrix}2n \\\\ n\\end{pmatrix}\n",
    "$$\n",
    "\n",
    "as \n",
    "\n",
    "$$\n",
    "g(n) = C_{n - 1}\n",
    "$$"
   ]
  },
  {
   "cell_type": "code",
   "execution_count": null,
   "metadata": {},
   "outputs": [],
   "source": [
    "n = 5\n",
    "\n",
    "counts = np.zeros((n + 1, n + 1, n + 1))\n",
    "counts[0, 0, 0] = 1\n",
    "for i in range(0, n + 1):\n",
    "    if i > 0:\n",
    "        for j in range(n + 1):\n",
    "            counts[i, j] += counts[i - 1, j]\n",
    "    for j in range(1, n + 1):\n",
    "        if j > i:\n",
    "            counts[i, j, 1:] += counts[i, j - 1, :-1]\n",
    "        else:\n",
    "            counts[i, j] += counts[i, j - 1]"
   ]
  },
  {
   "cell_type": "code",
   "execution_count": null,
   "metadata": {},
   "outputs": [],
   "source": [
    "for i in range(n + 1):\n",
    "    for j in range(i, n + 1):\n",
    "        i, j = sorted([i, j])\n",
    "        d = j - i\n",
    "        assert np.all(counts[i, j, d:j + 1] == counts[j, i, :j + 1 - d][::-1])"
   ]
  },
  {
   "cell_type": "code",
   "execution_count": null,
   "metadata": {},
   "outputs": [],
   "source": [
    "i, j = 4, 5\n",
    "counts[i, j], counts[j, i]"
   ]
  },
  {
   "cell_type": "code",
   "execution_count": 31,
   "metadata": {},
   "outputs": [],
   "source": [
    "pathstr = 'rbbrrrbbrb'\n",
    "path = [[0, 0]]\n",
    "for symbol in pathstr:\n",
    "    if symbol == 'r':\n",
    "        path.append([path[-1][0] + 1, path[-1][1]])\n",
    "    else:\n",
    "        path.append([path[-1][0], path[-1][1] + 1])\n",
    "        \n",
    "path = np.array(path)"
   ]
  },
  {
   "cell_type": "code",
   "execution_count": 39,
   "metadata": {},
   "outputs": [
    {
     "data": {
      "image/png": "[encoded data removed]",
      "text/plain": [
       "<Figure size 288x288 with 1 Axes>"
      ]
     },
     "metadata": {},
     "output_type": "display_data"
    }
   ],
   "source": [
    "n = 5\n",
    "\n",
    "base = np.arange(n + 1)\n",
    "lim = base[[0, -1]]\n",
    "x, y = np.meshgrid(base, base)\n",
    "\n",
    "fig, ax = plt.subplots(figsize=(4, 4))\n",
    "\n",
    "ax.set_aspect(1)\n",
    "ax.invert_yaxis()\n",
    "\n",
    "for i in base:\n",
    "    ax.plot([i, i], lim, 'k-', linewidth=.8, alpha=.8)\n",
    "    ax.plot(lim, [i, i], 'k-', linewidth=.8, alpha=.8)\n",
    "#     ax.plot([i, lim[-1]], [i, i], 'r-', linewidth=2)\n",
    "#     ax.plot([i, i], [i, lim[-1]], 'b-', linewidth=2)\n",
    "ax.plot(path[:, 0], path[:, 1], 'k-', linewidth=6)\n",
    "\n",
    "ax.plot(lim, lim, 'k:', linewidth=.8, alpha=.8)\n",
    "ax.plot(x.ravel(), y.ravel(), 'ko')\n",
    "\n",
    "ax.set_xticks([])\n",
    "ax.set_yticks([])\n",
    "for spine in ax.spines.values():\n",
    "    spine.set_visible(False)\n",
    "    \n",
    "fig.savefig(figdir / 'path-representation.png')"
   ]
  },
  {
   "cell_type": "code",
   "execution_count": 40,
   "metadata": {},
   "outputs": [
    {
     "data": {
      "image/png": "[encoded data removed]",
      "text/plain": [
       "<Figure size 288x288 with 1 Axes>"
      ]
     },
     "metadata": {},
     "output_type": "display_data"
    }
   ],
   "source": [
    "n = 5\n",
    "\n",
    "base = np.arange(n + 1)\n",
    "lim = base[[0, -1]]\n",
    "x, y = np.meshgrid(base, base)\n",
    "\n",
    "fig, ax = plt.subplots(figsize=(4, 4))\n",
    "\n",
    "ax.set_aspect(1)\n",
    "ax.invert_yaxis()\n",
    "\n",
    "for i in base:\n",
    "    ax.plot([i, i], lim, 'k-', linewidth=.8, alpha=.8)\n",
    "    ax.plot(lim, [i, i], 'k-', linewidth=.8, alpha=.8)\n",
    "    ax.plot([i, lim[-1]], [i, i], 'r-', linewidth=3.2)\n",
    "#     ax.plot([i, i], [i, lim[-1]], 'b-', linewidth=2)\n",
    "ax.plot(lim, lim, 'k:', linewidth=.8, alpha=.8)\n",
    "ax.plot(x.ravel(), y.ravel(), 'ko')\n",
    "\n",
    "ax.set_xticks([])\n",
    "ax.set_yticks([])\n",
    "for spine in ax.spines.values():\n",
    "    spine.set_visible(False)\n",
    "    \n",
    "fig.savefig(figdir / 'labelled-edges.png')"
   ]
  }
 ],
 "metadata": {
  "kernelspec": {
   "display_name": "Python 3",
   "language": "python",
   "name": "python3"
  },
  "language_info": {
   "codemirror_mode": {
    "name": "ipython",
    "version": 3
   },
   "file_extension": ".py",
   "mimetype": "text/x-python",
   "name": "python",
   "nbconvert_exporter": "python",
   "pygments_lexer": "ipython3",
   "version": "3.7.1"
  }
 },
 "nbformat": 4,
 "nbformat_minor": 2
}
