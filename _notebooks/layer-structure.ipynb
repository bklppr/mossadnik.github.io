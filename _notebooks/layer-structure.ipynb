{
 "cells": [
  {
   "cell_type": "markdown",
   "metadata": {},
   "source": [
    "# Slicing & Pricing Insurance Risk\n",
    "\n",
    "\n",
    "This note explains how to compute the technical price of an insurance contract with additional policy structure in the form of risk bands (also known as layers or tranches). \n",
    "\n",
    "The technical price of a risk is essentially the expected loss to the insurer. The loss is driven by\n",
    "\n",
    " * _Ground-up Loss:_ Loss to the policy holder, typically represented using\n",
    "   * _Frequency:_ Number of loss events per insured object and unit time\n",
    "   * _Severity:_ loss amount given that a loss event occured\n",
    " * _Policy structure:_ Rules for computing gross loss (loss to the insurer) given ground-up loss\n",
    "\n",
    "Frequency and severity are not known, so that they are distributions estimated from data. By contrast, the policy structure is deterministic and consists of a function that maps claim amount to loss. Typically, piecewise linear functions are used that allow to represent limit, deductible and risk bands.\n",
    "\n",
    "\n",
    "## Ground-up Loss\n",
    "\n",
    "We assume that number of loss events $n$ and their severities $s_1,\\ldots,s_n$ are independent and that severities are iid. Then the distribution of ground-up losses $L_{\\text{GU}}$ is\n",
    "\n",
    "$$\n",
    "p(L_{\\text{GU}} = x) = \\sum_n p(n) \\,\\int d^n \\mathbf{s} \\,\\delta\\left(x - \\sum_{i=1}^n s_i\\right) \\, \\prod_{i=1}^n p(s_i)\n",
    "$$\n",
    "\n",
    "In order to facilitate parameter estimation for the severity model, losses are normalized by total insured value $V$ (or some similar measure). With $s = V x$, $x \\in [0, 1]$ a common distribution $f(x)$ can be used across insured objects,\n",
    "\n",
    "$$\n",
    "p(s = V x) = \\frac{1}{V} f(x)\n",
    "$$\n",
    "\n",
    "While the full distribution looks intimidating, the expected (ground-up) loss has a simple expression by virtue of the independence assumptions:\n",
    "\n",
    "$$\n",
    "\\begin{align}\n",
    "\\text{EL}_{\\text{GU}} &= \\mathbb{E}\\left[L_{\\text{GU}}\\right] \\\\\n",
    "    &= V \\,\\mathbb{E}[n] \\, \\mathbb{E}_{x \\sim f}[x]\n",
    "\\end{align}\n",
    "$$\n",
    "\n",
    "The expected number of claims $\\mathbb{E}\\left[n\\right]$ is often called the _rate_ with which losses occur and estimated using a model.\n",
    "\n",
    "## Policy Structure and Gross Loss\n",
    "\n",
    "Policy structures under consideration here consist of\n",
    "\n",
    " * a partition of the unit interval into $B$ non-overlapping sub-intervals - the risk bands. We denote the partition boundaries by $l_b, b \\in \\{0, \\ldots, B\\}$ where $l_0 = 0, l_B = 1$.\n",
    " * for each band $b \\in \\{1, \\ldots B\\}$, the fraction $f_b \\in [0, 1]$ of the losses that are covered. Band $b$ covers the range $[l_{b - 1}, l_b]$.\n",
    "\n",
    "The gross loss $L(x)$ given a band structure and the normalized ground-up loss is\n",
    "\n",
    "\n",
    "$$\n",
    "L(x) = \\sum_{b=1}^B f_b \\left[L_b(x) - L_{b - 1}(x)\\right]\n",
    "$$\n",
    "\n",
    "where\n",
    "\n",
    "$$\n",
    "L_b(x) = \\min(x, l_b)\n",
    "$$\n",
    "\n",
    "is the loss for a policy structure that consists of a single limit $l_b$.\n",
    "\n",
    "As special cases,\n",
    "\n",
    " * the ground-up loss is recovered using a single band that spans the entire unit interval and setting $f_0 = 1$. Equivalently, we can use any number and location of bands as long as $\\mathbf{f} = 1$.\n",
    " * the standard case with a single deductible $\\delta$ and limit $\\lambda$ is obtained with three bands $\\mathbf{l} = (0, \\delta, \\lambda, 1)$ and fractions $\\mathbf{f} = (0, 1, 0)$.\n",
    "\n",
    "In the following, we consider the case where limits and deductibles apply to individual claims. Then the expected (gross) loss is\n",
    "\n",
    "$$\n",
    "\\text{EL} = \\underbrace{V \\, \\mathbb{E}[n] \\, \\mathbb{E}_{x\\sim f}\\left[x\\right]}_{\\text{ground-up loss}}\\;\\,\\underbrace{\\sum_{b = 1}^B f_b \\frac{\\mathbb{E}_{x \\sim f}\\left[L_b(x) - L_{b - 1}(x)\\right]}{\\mathbb{E}_{x\\sim f}\\left[x\\right]}}_{\\text{policy structure}}\n",
    "$$\n",
    "\n",
    "Note that the condition that policy structure applies to individual claims is important for the result to hold because the expectations are non-linear, so that for multiple claims the distribution of the sum of multiple claims has to be used (via convolution).\n",
    "\n",
    "For the present case, the expectations can be computed using the so-called [exposure curve](https://www.casact.org/library/astin/vol27no1/99.pdf) of the distribution,\n",
    "\n",
    "$$\n",
    "\\begin{align}\n",
    "G(y) &= \\frac{\\mathbb{E}_{x\\sim f}\\left[\\min(x, y)\\right]}{\\mathbb{E}_{x\\sim f}\\left[x\\right]} \\\\\n",
    "    &= \\frac{\\int_0^y \\left[1 - F(x)\\right] \\, dx}{\\int_0^1 \\left[1 - F(x)\\right] \\, dx}\n",
    "\\end{align}\n",
    "$$\n",
    "\n",
    "so that we arrive at the compact result\n",
    "\n",
    "$$\n",
    "\\text{EL} = \\text{EL}_{\\text{GU}} \\, \\sum_{b=1}^B f_b \\left[G(l_b) - G(l_{b - 1})\\right]\n",
    "$$\n",
    "\n",
    "## References\n",
    "\n",
    " * S. Bernegger, [The Swiss Re Exposure Curves and the MBBEFD Distribution Class](https://www.casact.org/library/astin/vol27no1/99.pdf)\n",
    " * C. Dutang, M. Gesmann, and G. Spedicato, [Exposure rating, destruction rate models and the\n",
    "mbbefd package](https://cran.r-project.org/web/packages/mbbefd/vignettes/Introduction_to_mbbefd.pdf)"
   ]
  },
  {
   "cell_type": "code",
   "execution_count": 1,
   "metadata": {},
   "outputs": [],
   "source": [
    "%matplotlib inline\n",
    "from pathlib import Path\n",
    "import numpy as np\n",
    "import matplotlib.pyplot as plt"
   ]
  },
  {
   "cell_type": "code",
   "execution_count": 22,
   "metadata": {},
   "outputs": [],
   "source": [
    "figdir = Path('../assets/img/2019-04-20-slicing-and-pricing').resolve()\n",
    "figdir.mkdir(exist_ok=True)"
   ]
  },
  {
   "cell_type": "code",
   "execution_count": 23,
   "metadata": {},
   "outputs": [
    {
     "data": {
      "image/png": "[encoded data removed]",
      "text/plain": [
       "<Figure size 504x288 with 1 Axes>"
      ]
     },
     "metadata": {
      "needs_background": "light"
     },
     "output_type": "display_data"
    }
   ],
   "source": [
    "def h(x, limit):\n",
    "    return np.minimum(x, limit)\n",
    "\n",
    "fig, ax = plt.subplots(figsize=(7, 4))\n",
    "x = np.linspace(0, 1, 200)\n",
    "funcs = [h(x, .2), h(x, .6)]\n",
    "funcs.append(funcs[1] - funcs[0])\n",
    "for f, label, color in zip(\n",
    "        funcs,\n",
    "        ['$L_1(x) = \\min(x, 0.2)$', '$L_2(x) = \\min(x, 0.5)$', '$L_2(x) - L_1(x)$'],\n",
    "        ['b-', 'b:', 'r']\n",
    "        ):\n",
    "    ax.plot(x, f, color, label=label)\n",
    "    \n",
    "ax.axvspan(.2, .6, color='k', alpha=.1)\n",
    "ax.grid()\n",
    "ax.legend()\n",
    "ax.set_xlabel('ground-up loss ($x$)')\n",
    "ax.set_ylabel('gross loss')\n",
    "ax.set_title('Building risk bands from base functions')\n",
    "\n",
    "fig.savefig(figdir.joinpath('risk-band.jpg'))"
   ]
  }
 ],
 "metadata": {
  "kernelspec": {
   "display_name": "Python 3",
   "language": "python",
   "name": "python3"
  },
  "language_info": {
   "codemirror_mode": {
    "name": "ipython",
    "version": 3
   },
   "file_extension": ".py",
   "mimetype": "text/x-python",
   "name": "python",
   "nbconvert_exporter": "python",
   "pygments_lexer": "ipython3",
   "version": "3.7.1"
  }
 },
 "nbformat": 4,
 "nbformat_minor": 2
}
