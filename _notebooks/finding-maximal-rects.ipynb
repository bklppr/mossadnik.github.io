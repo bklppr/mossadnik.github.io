{
 "cells": [
  {
   "cell_type": "markdown",
   "metadata": {},
   "source": [
    "# Finding Filled Rectangles in Binary Images"
   ]
  },
  {
   "cell_type": "code",
   "execution_count": 1,
   "metadata": {},
   "outputs": [],
   "source": [
    "%matplotlib inline\n",
    "\n",
    "import numpy as np\n",
    "import numba\n",
    "import matplotlib.pyplot as plt\n",
    "from matplotlib.patches import Rectangle\n",
    "\n",
    "fn = '../assets/img/maximal-rect/{}.jpg'"
   ]
  },
  {
   "cell_type": "code",
   "execution_count": 2,
   "metadata": {},
   "outputs": [],
   "source": [
    "# random images\n",
    "\n",
    "def circle(n, c=None, r=None):\n",
    "    if r is None:\n",
    "        r = .45 * n\n",
    "    if c is None:\n",
    "        c = .5 * n * np.ones(2)\n",
    "    x = (np.arange(n) - c[0])**2\n",
    "    y = (np.arange(n) - c[1])**2\n",
    "    return np.where(x[:, None] + y[None, :] < r * r)\n",
    "\n",
    "\n",
    "def get_image(n, r=.52, r_hole=.05, n_holes=20):\n",
    "    arr = np.zeros((n, n), dtype=np.int32)\n",
    "    arr[circle(n, r=r * n)] = 1\n",
    "    r = r_hole * n\n",
    "    for _ in range(n_holes):\n",
    "        c = np.random.randint(int(r), n - int(r), 2)\n",
    "        arr[circle(n, c=c, r=r)] = 0\n",
    "    return arr"
   ]
  },
  {
   "cell_type": "code",
   "execution_count": 23,
   "metadata": {},
   "outputs": [],
   "source": [
    "# plots\n",
    "\n",
    "def show(img, grid=True, style={}, ax=None):\n",
    "    n = img.shape[0]\n",
    "    if ax is None:\n",
    "        fig, ax = plt.subplots()\n",
    "    rect_style = dict(edgecolor='none', facecolor=(.6,) * 3)\n",
    "    rect_style.update(style)\n",
    "    for x, y in zip(*np.where(img)):\n",
    "        ax.add_patch(Rectangle((y, x), 1, 1, **rect_style))\n",
    "    \n",
    "    if grid:\n",
    "        for i in range(n):\n",
    "            ax.axhline(i, color='k', linewidth=.5)\n",
    "            ax.axvline(i, color='k', linewidth=.5)\n",
    "    \n",
    "    ax.set_xlim((0, n))\n",
    "    ax.set_ylim((0, n))\n",
    "    ax.set_xticks([])\n",
    "    ax.set_yticks([])\n",
    "    ax.set_aspect(1)\n",
    "    return ax\n",
    "\n",
    "\n",
    "def draw_rect(rect, ax, color=(0, 0, 1)):\n",
    "    top, left, bottom, right = rect\n",
    "    fc = color + (.3,)\n",
    "    ax.add_patch(\n",
    "        Rectangle((left, top), right - left + 1, bottom - top + 1, facecolor=fc, linewidth=4, edgecolor=color)\n",
    "    )\n",
    "\n",
    "\n",
    "def show_mat(arr, rect=None, ax=None):\n",
    "    if ax is None:\n",
    "        fig, ax = plt.subplots(figsize=(6, 6))\n",
    "    ax.matshow(arr, cmap=plt.cm.Blues)\n",
    "    if rect:\n",
    "        top, left, bottom, right = rect\n",
    "        ax.add_patch(\n",
    "            Rectangle(\n",
    "                (left - .5, top - .5), right - left + 1, bottom - top + 1,\n",
    "                facecolor=(1., 0, 0, .3), edgecolor='r'\n",
    "            )\n",
    "        ) \n",
    "    return ax"
   ]
  },
  {
   "cell_type": "code",
   "execution_count": 4,
   "metadata": {},
   "outputs": [],
   "source": [
    "@numba.jit\n",
    "def get_heights(arr):\n",
    "    res = np.zeros(arr.size, dtype=np.int32)\n",
    "    res[0] = arr[0]\n",
    "    i = 1\n",
    "    for a in arr[1:]:\n",
    "        if a == 0:\n",
    "            res[i] = 0\n",
    "        else:\n",
    "            res[i] = res[i - 1] + 1\n",
    "        i += 1\n",
    "    return res\n",
    "\n",
    "\n",
    "@numba.jitclass([\n",
    "    ('_stack', numba.int32[:, :]),\n",
    "    ('size', numba.int32),\n",
    "])\n",
    "class Stack:\n",
    "    def __init__(self, size):\n",
    "        self._stack = np.empty((size, 2), dtype=np.int32)\n",
    "        self.size = 0\n",
    "        \n",
    "    def push(self, pos, height):\n",
    "        self._stack[self.size, 0] = pos\n",
    "        self._stack[self.size, 1] = height\n",
    "        self.size += 1\n",
    "        \n",
    "    def pop(self):\n",
    "        self.size -= 1\n",
    "        v = self._stack[self.size]\n",
    "        return v[0], v[1]\n",
    "    \n",
    "    def peek_height(self):\n",
    "        return self._stack[self.size - 1][1]\n",
    "\n",
    "\n",
    "@numba.jit\n",
    "def get_hist_maximal_rect(heights):\n",
    "    \"\"\"find the maximal rectangle contained in a histogram.\"\"\"\n",
    "    def push_required(h, stack):\n",
    "        if h == 0:\n",
    "            return False\n",
    "        if stack.size == 0:\n",
    "            return True\n",
    "        return h > stack.peek_height()\n",
    "    \n",
    "    stack = Stack(heights.size)\n",
    "    max_area = -1\n",
    "    lo, hi = -1, -1\n",
    "    for i in range(heights.size + 1):\n",
    "        # terminate with a zero height to clear the stack\n",
    "        h = heights[i] if i < heights.size else 0\n",
    "        if push_required(h, stack):\n",
    "            stack.push(i, h)\n",
    "        elif h < stack.peek_height():\n",
    "            while stack.size and h < stack.peek_height():\n",
    "                left, height = stack.pop()\n",
    "                area = height * (i - left)\n",
    "                if area > max_area:\n",
    "                    max_area = area\n",
    "                    lo, hi = left, i - 1\n",
    "            if push_required(h, stack):\n",
    "                stack.push(left, h)\n",
    "\n",
    "    return np.array([lo, hi, max_area])\n",
    "\n",
    "\n",
    "def get_maximal_rect(img):\n",
    "    \"\"\"find the maximum area rectangle that contains only ones.\"\"\"\n",
    "    row_heights = np.apply_along_axis(get_heights, 0, img)\n",
    "    left, right, area = np.apply_along_axis(get_hist_maximal_rect, 1, row_heights).T\n",
    "    bottom = np.argmax(area)\n",
    "    h = area[bottom] // (right[bottom] - left[bottom] + 1) - 1\n",
    "    return bottom - h, left[bottom], bottom, right[bottom]"
   ]
  },
  {
   "cell_type": "code",
   "execution_count": 77,
   "metadata": {},
   "outputs": [
    {
     "data": {
      "text/plain": [
       "<matplotlib.axes._subplots.AxesSubplot at 0x61899a828>"
      ]
     },
     "execution_count": 77,
     "metadata": {},
     "output_type": "execute_result"
    },
    {
     "data": {
      "image/png": "[encoded data removed]",
      "text/plain": [
       "<Figure size 432x432 with 1 Axes>"
      ]
     },
     "metadata": {
      "needs_background": "light"
     },
     "output_type": "display_data"
    }
   ],
   "source": [
    "n = 31\n",
    "# img = get_image(n, r_hole=.08, n_holes=10)\n",
    "rect = get_maximal_rect(img)\n",
    "show_mat(img)"
   ]
  },
  {
   "cell_type": "code",
   "execution_count": 78,
   "metadata": {},
   "outputs": [
    {
     "data": {
      "image/png": "[encoded data removed]",
      "text/plain": [
       "<Figure size 360x360 with 1 Axes>"
      ]
     },
     "metadata": {},
     "output_type": "display_data"
    }
   ],
   "source": [
    "fig, ax = plt.subplots(figsize=(5, 5))\n",
    "show(img, ax=ax)\n",
    "draw_rect(rect, ax)\n",
    "fig.savefig(fn.format('basic-example'))"
   ]
  },
  {
   "cell_type": "code",
   "execution_count": 79,
   "metadata": {},
   "outputs": [
    {
     "data": {
      "image/png": "[encoded data removed]",
      "text/plain": [
       "<Figure size 360x360 with 1 Axes>"
      ]
     },
     "metadata": {},
     "output_type": "display_data"
    }
   ],
   "source": [
    "fig, ax = plt.subplots(figsize=(5, 5))\n",
    "show(img, ax=ax)\n",
    "draw_rect(rect, ax=ax)\n",
    "draw_rect((19, 11, 30, 17), ax=ax, color=(1,0,0))\n",
    "fig.savefig(fn.format('rect-extendable'))"
   ]
  },
  {
   "cell_type": "code",
   "execution_count": 80,
   "metadata": {},
   "outputs": [
    {
     "data": {
      "image/png": "[encoded data removed]",
      "text/plain": [
       "<Figure size 360x360 with 1 Axes>"
      ]
     },
     "metadata": {},
     "output_type": "display_data"
    }
   ],
   "source": [
    "bottom = int(.3 * n)\n",
    "heights = np.apply_along_axis(get_heights, 0, img[::-1])[::-1][bottom]\n",
    "left, right = get_hist_maximal_rect(heights)[:2]\n",
    "h = min(heights[left:right + 1])\n",
    "\n",
    "histogram = np.zeros_like(img)\n",
    "for i in range(n):\n",
    "    histogram[bottom:bottom + heights[i], i] = 1\n",
    "# ax = show(img)\n",
    "fig, ax = plt.subplots(figsize=(5, 5))\n",
    "\n",
    "show(img, grid=False, ax=ax)\n",
    "show(histogram, grid=True, style=dict(facecolor='b'), ax=ax)\n",
    "ax.axhline(bottom, color='b')\n",
    "draw_rect((bottom, left, bottom + h - 1, right), ax)\n",
    "fig.savefig(fn.format('histogram'))"
   ]
  },
  {
   "cell_type": "code",
   "execution_count": 81,
   "metadata": {},
   "outputs": [],
   "source": [
    "class Stack:\n",
    "    def __init__(self, size):\n",
    "        self._stack = np.empty((size, 2), dtype=np.int32)\n",
    "        self.size = 0\n",
    "        \n",
    "    def push(self, pos, height):\n",
    "        self._stack[self.size, 0] = pos\n",
    "        self._stack[self.size, 1] = height\n",
    "        self.size += 1\n",
    "        \n",
    "    def pop(self):\n",
    "        self.size -= 1\n",
    "        v = self._stack[self.size]\n",
    "        return v[0], v[1]\n",
    "    \n",
    "    def peek_height(self):\n",
    "        return self._stack[self.size - 1][1]\n",
    "\n",
    "\n",
    "def get_hist_maximal_rect_debug(heights):\n",
    "    def push_required(h, stack):\n",
    "        if h == 0:\n",
    "            return False\n",
    "        if stack.size == 0:\n",
    "            return True\n",
    "        return h > stack.peek_height()\n",
    "\n",
    "    stack = Stack(heights.size)\n",
    "    max_area = -1\n",
    "    lo, hi = -1, -1\n",
    "    rects = []\n",
    "    for i in range(heights.size + 1):\n",
    "        h = heights[i] if i < heights.size else 0\n",
    "        if push_required(h, stack):\n",
    "            stack.push(i, h)\n",
    "        elif h < stack.peek_height():\n",
    "            while stack.size and h < stack.peek_height():\n",
    "                left, height = stack.pop()\n",
    "                area = height * (i - left)\n",
    "                rects.append((left, i - 1, height))\n",
    "                if area > max_area:\n",
    "                    max_area = area\n",
    "                    lo, hi = left, i - 1\n",
    "            if push_required(h, stack):\n",
    "                stack.push(left, h)\n",
    "\n",
    "    return np.array([lo, hi, max_area // (hi - lo + 1)]), rects\n",
    "\n",
    "best, rects = get_hist_maximal_rect_debug(heights)"
   ]
  },
  {
   "cell_type": "code",
   "execution_count": 82,
   "metadata": {},
   "outputs": [
    {
     "data": {
      "image/png": "[encoded data removed]",
      "text/plain": [
       "<Figure size 1008x360 with 1 Axes>"
      ]
     },
     "metadata": {},
     "output_type": "display_data"
    }
   ],
   "source": [
    "fig, ax = plt.subplots(figsize=(14, 5))\n",
    "ax.bar(np.arange(n), heights, width=1., align='edge', facecolor=(0, 0, 1, .3), edgecolor='none')\n",
    "h = np.concatenate([[0], np.c_[heights, heights].ravel(), [0]])\n",
    "x = np.c_[np.arange(n + 1), np.arange(n + 1)].ravel()\n",
    "ax.plot(x, h, 'b-', linewidth=3)\n",
    "\n",
    "for left, right, height in rects:\n",
    "    ax.plot([left, right + 1], [height, height], 'ro-', linewidth=3)\n",
    "\n",
    "ax.set_xticks([])\n",
    "ax.set_yticks([])\n",
    "style = dict(color='k', linewidth=.5)\n",
    "for i in range(n + 1):\n",
    "    ax.axvline(i, **style)\n",
    "for i in range(heights.max() + 1):\n",
    "    ax.axhline(i, **style)\n",
    "ax.set_xlim((-.5, n + .5))\n",
    "fig.savefig(fn.format('hist-rects'))"
   ]
  },
  {
   "cell_type": "code",
   "execution_count": 84,
   "metadata": {},
   "outputs": [
    {
     "name": "stdout",
     "output_type": "stream",
     "text": [
      "CPU times: user 108 ms, sys: 804 µs, total: 109 ms\n",
      "Wall time: 109 ms\n"
     ]
    },
    {
     "data": {
      "image/png": "[encoded data removed]",
      "text/plain": [
       "<Figure size 360x360 with 1 Axes>"
      ]
     },
     "metadata": {
      "needs_background": "light"
     },
     "output_type": "display_data"
    }
   ],
   "source": [
    "n = 1000\n",
    "arr = get_image(n=n)\n",
    "%time rect = get_maximal_rect(arr)\n",
    "\n",
    "top, left, bottom, right = rect\n",
    "assert np.all(arr[top:bottom + 1, left:right+1])\n",
    "\n",
    "fig, ax = plt.subplots(figsize=(5, 5))\n",
    "show_mat(arr, rect, ax=ax)\n",
    "fig.savefig(fn.format('large-example'))"
   ]
  },
  {
   "cell_type": "code",
   "execution_count": 27,
   "metadata": {},
   "outputs": [
    {
     "data": {
      "text/plain": [
       "dtype('int64')"
      ]
     },
     "execution_count": 27,
     "metadata": {},
     "output_type": "execute_result"
    }
   ],
   "source": [
    "np.array([1,2,3]).dtype"
   ]
  }
 ],
 "metadata": {
  "kernelspec": {
   "display_name": "Python 3",
   "language": "python",
   "name": "python3"
  },
  "language_info": {
   "codemirror_mode": {
    "name": "ipython",
    "version": 3
   },
   "file_extension": ".py",
   "mimetype": "text/x-python",
   "name": "python",
   "nbconvert_exporter": "python",
   "pygments_lexer": "ipython3",
   "version": "3.7.0"
  }
 },
 "nbformat": 4,
 "nbformat_minor": 2
}
