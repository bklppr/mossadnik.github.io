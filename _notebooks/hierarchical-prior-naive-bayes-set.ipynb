{
 "cells": [
  {
   "cell_type": "code",
   "execution_count": null,
   "metadata": {},
   "outputs": [],
   "source": [
    "%matplotlib inline\n",
    "from pathlib import Path\n",
    "import numpy as np\n",
    "import matplotlib.pyplot as plt\n",
    "import matplotlib as mpl\n",
    "from scipy.special import gammaln\n",
    "from scipy import stats\n",
    "from scipy import integrate\n",
    "\n",
    "figdir = Path('../assets/img/2019-08-22-classifying-columns/').resolve()"
   ]
  },
  {
   "cell_type": "code",
   "execution_count": null,
   "metadata": {},
   "outputs": [],
   "source": [
    "\n",
    "plt.rcParams['font.size'] = 15\n",
    "for xy in ['x', 'y']:\n",
    "    plt.rcParams[f'{xy}tick.labelsize'] = 15\n",
    "    plt.rcParams[f'{xy}tick.major.size'] = 5\n",
    "    plt.rcParams[f'{xy}tick.major.width'] = 1"
   ]
  },
  {
   "cell_type": "code",
   "execution_count": null,
   "metadata": {},
   "outputs": [],
   "source": [
    "def beta_log_normalizer(a, b):\n",
    "    return gammaln(a) + gammaln(b) - gammaln(a + b)\n",
    "\n",
    "\n",
    "def beta_binomial_lpdf(n, k, a, b):\n",
    "    return beta_log_normalizer(a + k, b + n - k) - beta_log_normalizer(a, b)\n",
    "\n",
    "\n",
    "def bernoulli_lpdf(n, k, p):\n",
    "    return k * np.log(p) + (n - k) * np.log(1. - p)"
   ]
  },
  {
   "cell_type": "markdown",
   "metadata": {},
   "source": [
    "# Beta Distribution"
   ]
  },
  {
   "cell_type": "code",
   "execution_count": null,
   "metadata": {},
   "outputs": [],
   "source": [
    "pi = 0.3\n",
    "nuvals = np.logspace(1, 4, 4)\n",
    "\n",
    "\n",
    "x = np.linspace(0, 1, 200)\n",
    "\n",
    "fig, axes = plt.subplots(ncols=len(nuvals), figsize=(len(nuvals) * 4, 3), sharey=True, gridspec_kw=dict(wspace=.05))\n",
    "\n",
    "show_labels = True\n",
    "for ax, nu in zip(axes, nuvals):\n",
    "    alpha = pi * nu\n",
    "    beta = (1 - pi) * nu\n",
    "    ax.fill_between(x, stats.beta(alpha, beta).pdf(x))\n",
    "    ax.text(.99, .02, '$\\\\nu = %d$' % nu, ha='right', va='bottom', transform=ax.transAxes)\n",
    "    \n",
    "    for k, spine in ax.spines.items():\n",
    "        spine.set_visible(k == 'bottom')\n",
    "    ax.set_yticks([])\n",
    "    ax.set_xbound([0, 1])\n",
    "    ax.set_ybound([0, None])\n",
    "    ax.set_xticks([0, pi, 1])    \n",
    "    if show_labels:\n",
    "        ax.set_xticklabels(['0', '$\\pi=%.1f$' % p, '1'])\n",
    "        show_labels = False\n",
    "    else:\n",
    "        ax.set_xticklabels([])\n",
    "        \n",
    "fig.tight_layout()\n",
    "fig.savefig(figdir / 'beta-distributions.jpg', dpi=300)"
   ]
  },
  {
   "cell_type": "markdown",
   "metadata": {},
   "source": [
    "# Different regimes as number of observations scales"
   ]
  },
  {
   "cell_type": "code",
   "execution_count": null,
   "metadata": {},
   "outputs": [],
   "source": [
    "\n",
    "p = .3\n",
    "n = np.logspace(0, 4.1, 200)\n",
    "k = p * n\n",
    "\n",
    "evidence = beta_log_normalizer(k + 1, n - k + 1)\n",
    "# evidence = bernoulli_lpdf(n, k, p)\n",
    "fig, axes = plt.subplots(ncols=2, figsize=(15, 4), gridspec_kw=dict(wspace=0))\n",
    "nu = 10.\n",
    "pivals = [.3, .4, .5, .6]\n",
    "ax = axes[0]\n",
    "ax.set_xlabel('number of observations $n$')\n",
    "ax.set_ylabel('likelihood')\n",
    "for pi in pivals:\n",
    "    a, b = pi * nu, (1 - pi) * nu\n",
    "    y = beta_binomial_lpdf(n, k, a, b)\n",
    "    ax.plot(n, np.exp(y - evidence), label='$\\\\pi=%.1f$' % pi)\n",
    "ax.set_xscale('log')\n",
    "# ax.set_yscale('log')\n",
    "# ax.legend(loc='lower left')\n",
    "ax.set_xlim((1, n.max()))\n",
    "\n",
    "ax.set_yticks(np.arange(4))\n",
    "# ax.grid()\n",
    "for k, spine in ax.spines.items():\n",
    "    if k in ['top', 'right']:\n",
    "        spine.set_visible(False)\n",
    "    if k == 'bottom':\n",
    "        spine.set_bounds(1, 10**np.floor(np.log10(n.max())))\n",
    "\n",
    "ax = axes[1]\n",
    "mrg = .2\n",
    "for pi in pivals:\n",
    "    y = stats.beta(pi * nu, (1 - pi) * nu).pdf(p)\n",
    "    ax.plot([-mrg, pi], [y, y])\n",
    "\n",
    "x = np.linspace(0, 1, 200)\n",
    "y = stats.beta(x * nu, (1 - x) * nu).pdf(p)\n",
    "ax.plot(x, y, color='k', linewidth=2)\n",
    "ax.fill_between(x, y, color='k', alpha=.1)\n",
    "\n",
    "# ax.set_yscale('log')\n",
    "# ax.set_yl\n",
    "\n",
    "ax.set_xbound([0, 1])\n",
    "ax.set_xlim((-mrg, 1.02))\n",
    "ax.set_xticks(np.linspace(0, 1, 6))\n",
    "ax.set_yticks([])\n",
    "\n",
    "ax.set_xlabel('prior mean $\\pi$')\n",
    "\n",
    "# ax.grid()\n",
    "for k, spine in ax.spines.items():\n",
    "    if k == 'bottom':\n",
    "        spine.set_bounds(0, 1)\n",
    "    else:\n",
    "        spine.set_visible(False)\n",
    "\n",
    "for ax in axes:\n",
    "    ax.set_ylim(0, 3)\n",
    "pass\n",
    "\n",
    "fig.tight_layout()\n",
    "fig.savefig(figdir / 'likelihood-large-n-limit.jpg', dpi=300)"
   ]
  }
 ],
 "metadata": {
  "kernelspec": {
   "display_name": "Python 3",
   "language": "python",
   "name": "python3"
  },
  "language_info": {
   "codemirror_mode": {
    "name": "ipython",
    "version": 3
   },
   "file_extension": ".py",
   "mimetype": "text/x-python",
   "name": "python",
   "nbconvert_exporter": "python",
   "pygments_lexer": "ipython3",
   "version": "3.7.1"
  }
 },
 "nbformat": 4,
 "nbformat_minor": 2
}
